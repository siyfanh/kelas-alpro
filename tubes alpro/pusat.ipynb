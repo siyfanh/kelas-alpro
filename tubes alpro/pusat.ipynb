# Import the necessary packages and modules
import matplotlib.pyplot as plt
plt.style.use('style/sci.mplstyle')
import numpy as np

# Open and read the file gr.dos
a, b = np.loadtxt('cofmc.dat', unpack=True)
    
# Create figure object
plt.figure()
# Plot the DOS, in which the Fermi energy shifts to zero
plt.plot(a, b, color='red')
# Add the x and y-axis labels
plt.xlabel('a')
plt.ylabel('b')
# Set the axis limits
plt.xlim(-5, 5)
plt.ylim(-4, 4)
# Save the figure to the pdf file
plt.savefig('plot-dos.pdf', bbox_inches='tight')
